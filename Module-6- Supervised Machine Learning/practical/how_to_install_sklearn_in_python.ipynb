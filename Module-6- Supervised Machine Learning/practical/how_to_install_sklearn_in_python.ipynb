{
  "cells": [
    {
      "cell_type": "markdown",
      "source": [
        "Installing **scikit-learn** ($\\text{sklearn}$) in Python is straightforward and typically done using the **`pip`** package installer. Scikit-learn requires that **NumPy** and **SciPy** (for numerical operations) are already installed.\n",
        "\n",
        "Here are the steps to install it:\n",
        "\n",
        "### 1\\. Prerequisite Check (Recommended)\n",
        "\n",
        "Ensure you have **Python** installed (version 3.8 or newer is recommended) and the package managers **pip** and **setuptools** are up-to-date.\n",
        "\n",
        "```bash\n",
        "# Update pip\n",
        "python -m pip install --upgrade pip\n",
        "```\n",
        "\n",
        "### 2\\. Standard Installation using pip\n",
        "\n",
        "The simplest and most common way to install $\\text{sklearn}$ is via $\\text{pip}$:\n",
        "\n",
        "```bash\n",
        "pip install scikit-learn\n",
        "```\n",
        "\n",
        "This command will automatically download and install the latest stable version of scikit-learn along with its dependencies ($\\text{NumPy}$ and $\\text{SciPy}$) if they are not already present.\n",
        "\n",
        "-----\n",
        "\n",
        "### 3\\. Installation in a Jupyter/Colab Notebook\n",
        "\n",
        "If you are working within a **Jupyter Notebook** or **Google Colab**, you should use the exclamation mark (`!`) before the command:"
      ],
      "metadata": {
        "id": "Jf8hcuNApVG8"
      }
    },
    {
      "cell_type": "code",
      "source": [
        "!pip install scikit-learn"
      ],
      "metadata": {
        "colab": {
          "base_uri": "https://localhost:8080/"
        },
        "id": "kuvfr3fKpdon",
        "outputId": "fddfc7f6-c5e6-4417-e4c2-eed627a3c2cf"
      },
      "execution_count": 2,
      "outputs": [
        {
          "output_type": "stream",
          "name": "stdout",
          "text": [
            "Requirement already satisfied: scikit-learn in /usr/local/lib/python3.12/dist-packages (1.6.1)\n",
            "Requirement already satisfied: numpy>=1.19.5 in /usr/local/lib/python3.12/dist-packages (from scikit-learn) (2.0.2)\n",
            "Requirement already satisfied: scipy>=1.6.0 in /usr/local/lib/python3.12/dist-packages (from scikit-learn) (1.16.2)\n",
            "Requirement already satisfied: joblib>=1.2.0 in /usr/local/lib/python3.12/dist-packages (from scikit-learn) (1.5.2)\n",
            "Requirement already satisfied: threadpoolctl>=3.1.0 in /usr/local/lib/python3.12/dist-packages (from scikit-learn) (3.6.0)\n"
          ]
        }
      ]
    },
    {
      "cell_type": "code",
      "source": [
        "!pip install scikit-learn"
      ],
      "outputs": [],
      "execution_count": null,
      "metadata": {
        "id": "XUu2TSFDpVHC"
      }
    },
    {
      "cell_type": "markdown",
      "source": [
        "-----\n",
        "\n",
        "### 4\\. Installation using Anaconda/Conda (If you use the Anaconda Distribution)\n",
        "\n",
        "If you manage your Python environment using **Anaconda** or **Miniconda**, it's best practice to use the `conda` package manager:\n",
        "\n",
        "```bash\n",
        "conda install scikit-learn\n",
        "```\n",
        "\n",
        "Using `conda` is often recommended as it manages complex dependencies, ensuring you have compatible versions of all required scientific packages.\n",
        "\n",
        "-----\n",
        "\n",
        "### 5\\. Verification\n",
        "\n",
        "After the installation is complete, you can verify it by opening a Python interpreter (or a new notebook cell) and trying to import the library:"
      ],
      "metadata": {
        "id": "_S7HyhVTpVHG"
      }
    },
    {
      "cell_type": "code",
      "source": [
        "import sklearn\n",
        "print(sklearn.__version__)"
      ],
      "outputs": [
        {
          "output_type": "stream",
          "name": "stdout",
          "text": [
            "1.6.1\n"
          ]
        }
      ],
      "execution_count": 3,
      "metadata": {
        "colab": {
          "base_uri": "https://localhost:8080/"
        },
        "id": "hz4lvfuOpVHH",
        "outputId": "c436af17-ccd8-46ac-f3d5-3b442374cb02"
      }
    },
    {
      "cell_type": "markdown",
      "source": [
        "If the installation was successful, this code will execute without an error and display the installed version number."
      ],
      "metadata": {
        "id": "6KR83bu5pVHJ"
      }
    },
    {
      "cell_type": "code",
      "source": [
        "import pandas as pd\n",
        "from sklearn.model_selection import train_test_split\n",
        "from sklearn.linear_model import LogisticRegression\n",
        "from sklearn.metrics import accuracy_score\n",
        "\n",
        "# Placeholder data - Replace with your actual data loading and preprocessing\n",
        "# For example, load data from a CSV:\n",
        "# df = pd.read_csv('your_data.csv')\n",
        "# X = df[['feature1', 'feature2']] # Replace with your feature columns\n",
        "# y = df['target'] # Replace with your target column\n",
        "\n",
        "# Using dummy data for demonstration\n",
        "from sklearn.datasets import make_classification\n",
        "X, y = make_classification(n_samples=100, n_features=20, random_state=42)\n",
        "\n",
        "\n",
        "# Split data into training and testing sets\n",
        "X_train, X_test, y_train, y_test = train_test_split(X, y, test_size=0.2, random_state=42)\n",
        "\n",
        "\n",
        "model = LogisticRegression(solver='liblinear')\n",
        "model.fit(X_train, y_train)\n",
        "predictions = model.predict(X_test)\n",
        "print(\"Accuracy:\", accuracy_score(y_test, predictions))"
      ],
      "metadata": {
        "colab": {
          "base_uri": "https://localhost:8080/"
        },
        "id": "3xOgWouKpySK",
        "outputId": "d629404d-433a-4808-ed62-637f48ee92a1"
      },
      "execution_count": 12,
      "outputs": [
        {
          "output_type": "stream",
          "name": "stdout",
          "text": [
            "Accuracy: 1.0\n"
          ]
        }
      ]
    }
  ],
  "metadata": {
    "colab": {
      "provenance": []
    },
    "kernelspec": {
      "display_name": "Python 3",
      "name": "python3"
    }
  },
  "nbformat": 4,
  "nbformat_minor": 0
}